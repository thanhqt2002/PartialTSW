{
 "cells": [
  {
   "cell_type": "code",
   "execution_count": 1,
   "metadata": {},
   "outputs": [],
   "source": [
    "#this code is inspired by https://github.com/kimiandj/gsw/blob/master/code/GSW_flows_comparison.ipynb\n",
    "# it runs with python 3.10.5\n",
    "%load_ext autoreload\n",
    "%autoreload 2\n",
    "\n",
    "import sys\n",
    "sys.path.append('../')\n",
    "\n",
    "import numpy as np\n",
    "import torch\n",
    "from torch import optim\n",
    "import ot\n",
    "import pandas as pd\n",
    "from tqdm import tqdm\n",
    "from IPython import display\n",
    "import time\n",
    "import matplotlib.pyplot as pl\n",
    "import scienceplots\n",
    "import os\n",
    "import gradient_flows"
   ]
  },
  {
   "cell_type": "code",
   "execution_count": 2,
   "metadata": {},
   "outputs": [
    {
     "name": "stdout",
     "output_type": "stream",
     "text": [
      "cpu\n"
     ]
    }
   ],
   "source": [
    "# Use GPU if available, CPU otherwise\n",
    "if torch.cuda.is_available():\n",
    "    device = torch.device('cuda')\n",
    "else:\n",
    "    device = torch.device('cpu')\n",
    "device='cpu'\n",
    "print(device)"
   ]
  },
  {
   "cell_type": "markdown",
   "metadata": {},
   "source": [
    "# Sample the data"
   ]
  },
  {
   "cell_type": "code",
   "execution_count": 3,
   "metadata": {},
   "outputs": [],
   "source": [
    "from sklearn import cluster, datasets\n",
    "dataset_name = 'unbalanced bimodal distributions'\n",
    "\n",
    "d = 2\n",
    "n_samples_mode1 = 200 # size of the first mode\n",
    "n_samples_mode2 = 70 # size of the second mode\n",
    "\n",
    "seed = 2024\n",
    "np.random.seed(seed)\n",
    "\n",
    "#results_folder = './Results/Gradient_Flow_bimodal_distribution'\n",
    "#if not os.path.isdir(results_folder):\n",
    "#    os.mkdir(results_folder)"
   ]
  },
  {
   "cell_type": "code",
   "execution_count": 4,
   "metadata": {},
   "outputs": [],
   "source": [
    "# the distributions are a mix of circles, blobs, moons and square\n",
    "noisy_circles = datasets.make_circles(\n",
    "    n_samples=n_samples_mode2*2, factor=0.8, noise=0.05, random_state=170\n",
    ")\n",
    "\n",
    "noisy_circles = noisy_circles[0][np.where(noisy_circles[1]==1)[0]]\n",
    "noisy_circles[:,0] = noisy_circles[:,0] -6\n",
    "noisy_circles[:,1] = noisy_circles[:,1] +2\n",
    "noisy_moons = datasets.make_moons(n_samples=n_samples_mode2*2, noise=0.05, random_state=170)\n",
    "noisy_moons = noisy_moons[0][np.where(noisy_moons[1]==1)[0]]\n",
    "noisy_moons[:,1] = noisy_moons[:,1] -1\n",
    "noisy_moons[:,0] = (noisy_moons[:,0]) * 1.5 \n",
    "blobs = datasets.make_blobs(n_samples=n_samples_mode1, centers=1, random_state=170)\n",
    "blobs = (blobs[0]+3)/3\n",
    "blobs[:,0] =  (blobs[:,0]*2) -4\n",
    "rng = np.random.RandomState(170)\n",
    "no_structure = rng.rand(n_samples_mode1, 2)-2\n",
    "no_structure[:,1] = no_structure[:,1]*1.5 +5\n",
    "no_structure[:,0] = no_structure[:,0] + 4\n",
    "\n",
    "source = np.concatenate((noisy_circles, no_structure)) # Define the initial distribution\n",
    "source = torch.from_numpy(source).float()\n",
    "\n",
    "X = np.concatenate((blobs, noisy_moons)) #target distribution\n",
    "X = torch.from_numpy(X).float()\n",
    "_, d = X.shape\n"
   ]
  },
  {
   "cell_type": "code",
   "execution_count": 5,
   "metadata": {},
   "outputs": [],
   "source": [
    "# Number of iterations for the optimization process\n",
    "nofiterations = 500\n",
    "\n",
    "modes = 'linear'\n",
    "titles = ['SW (Vanilla OT)', 'SWGG (Vanilla OT)', 'SW with PAWL', 'Sliced-PW', 'Sliced-PW (elbow)']\n",
    "\n",
    "lear_rates = 5e-2\n",
    "\n",
    "n_proj = 100\n",
    "\n",
    "\n",
    "# Define the optimizers\n",
    "Y = list()\n",
    "optimizer = list()\n",
    "gsw_res = list()\n",
    "\n",
    "torch.manual_seed(2024)\n",
    "\n",
    "for k in range(len(modes)):\n",
    "    #Y.append(torch.tensor(source, dtype=torch.float, device=device, requires_grad=True))\n",
    "    Y.append(source.clone().detach().requires_grad_(True))\n",
    "    optimizer.append(optim.Adam([Y[k]], lr = lear_rates))\n",
    "    gsw_res.append(gradient_flows.GF(ftype=modes, nofprojections=n_proj, device=device))\n",
    "\n"
   ]
  },
  {
   "cell_type": "code",
   "execution_count": 6,
   "metadata": {},
   "outputs": [
    {
     "name": "stdout",
     "output_type": "stream",
     "text": [
      "0\n",
      "100\n",
      "200\n",
      "300\n",
      "400\n"
     ]
    },
    {
     "data": {
      "text/plain": [
       "<Figure size 2000x1100 with 0 Axes>"
      ]
     },
     "metadata": {},
     "output_type": "display_data"
    }
   ],
   "source": [
    "s = len(titles)\n",
    "\n",
    "\n",
    "fig = pl.figure(figsize=(4*s, 8+3))\n",
    "grid = pl.GridSpec(2, s, wspace=.4, hspace=0.3)\n",
    "\n",
    "plot_fig = False #to plot the figures when running the different iterations\n",
    "mem_loss = []\n",
    "\n",
    "#nofiterations = 5\n",
    "for i in range(nofiterations):\n",
    "    if i%100 == 0:\n",
    "        print(i)\n",
    "    loss = list()\n",
    "    theta = torch.ones(len(modes),d)\n",
    "    \n",
    "    for k in range(s):\n",
    "        if k == 0:\n",
    "            l = gsw_res[k].sw(X.to(device), Y[k], theta=None)\n",
    "        if k == 1:\n",
    "            l, theta[k] = gsw_res[k].swgg(X.to(device), Y[k].to(device), theta=None)\n",
    "        if k == 2:\n",
    "            l, X_swp, Y_swp = gsw_res[k].sw_partial(X.to(device), Y[k], theta=None, k = n_samples_mode2*2)\n",
    "        if k == 3:\n",
    "            l, theta[k], X_swggp, Y_swggp = gsw_res[k].swgg_partial(X.to(device), Y[k], theta=None, k = n_samples_mode2*2)\n",
    "        if k == 4:\n",
    "            l, theta[k], X_swggp_e, Y_swggp_e, elbow = gsw_res[k].swgg_partial_elbow(X.to(device), Y[k], theta=None)\n",
    "        \n",
    "        # Optimization step\n",
    "        loss_ = l\n",
    "        loss.append(loss_)\n",
    "        optimizer[k].zero_grad()\n",
    "        loss[k].backward()\n",
    "        optimizer[k].step()\n",
    "         \n",
    "\n",
    "        if plot_fig:\n",
    "                temp = Y[k].detach().cpu().numpy()\n",
    "                pl.subplot(grid[0, k])\n",
    "                pl.cla()\n",
    "                pl.scatter(X[:n_samples_mode1,0], X[:n_samples_mode1,1], c='C1')\n",
    "                pl.scatter(X[n_samples_mode1: n_samples_mode2+n_samples_mode1,0], X[n_samples_mode1:n_samples_mode2+n_samples_mode1,1], c='C0')\n",
    "                pl.scatter(temp[:n_samples_mode2,0], temp[:n_samples_mode2,1],c='C2')\n",
    "                pl.scatter(temp[n_samples_mode2: n_samples_mode2+n_samples_mode1,0], temp[n_samples_mode2: n_samples_mode2+n_samples_mode1,1],c='C3')\n",
    "                pl.title(titles[k], fontsize=10)\n",
    "                xlim1,xlim2=pl.xlim()\n",
    "                ylim1,ylim2=pl.ylim()\n",
    "                pl.title(titles[k], fontsize=10)\n",
    "\n",
    "    if plot_fig:\n",
    "        display.clear_output(wait=True)\n",
    "        display.display(pl.gcf()) \n",
    "        time.sleep(1e-5)    \n",
    "\n",
    "    \n",
    "        #fig.savefig(results_folder + '/img%03d.png'%(i))\n",
    "        for k in range(s):\n",
    "            pl.cla()\n",
    "        \n",
    "            \n",
    "            "
   ]
  },
  {
   "cell_type": "code",
   "execution_count": 7,
   "metadata": {},
   "outputs": [
    {
     "data": {
      "image/png": "[encoded data removed]",
      "text/plain": [
       "<Figure size 200x200 with 1 Axes>"
      ]
     },
     "metadata": {},
     "output_type": "display_data"
    },
    {
     "data": {
      "image/png": "[encoded data removed]",
      "text/plain": [
       "<Figure size 200x200 with 1 Axes>"
      ]
     },
     "metadata": {},
     "output_type": "display_data"
    },
    {
     "data": {
      "image/png": "[encoded data removed]",
      "text/plain": [
       "<Figure size 200x200 with 1 Axes>"
      ]
     },
     "metadata": {},
     "output_type": "display_data"
    },
    {
     "data": {
      "image/png": "[encoded data removed]",
      "text/plain": [
       "<Figure size 200x200 with 1 Axes>"
      ]
     },
     "metadata": {},
     "output_type": "display_data"
    },
    {
     "data": {
      "image/png": "[encoded data removed]",
      "text/plain": [
       "<Figure size 200x200 with 1 Axes>"
      ]
     },
     "metadata": {},
     "output_type": "display_data"
    },
    {
     "data": {
      "image/png": "[encoded data removed]",
      "text/plain": [
       "<Figure size 200x200 with 1 Axes>"
      ]
     },
     "metadata": {},
     "output_type": "display_data"
    }
   ],
   "source": [
    "#pl.style.use(['science'])\n",
    "#pl.rcParams['text.usetex'] = True\n",
    "#pl.rcParams.update({'font.size': 22})\n",
    "\n",
    "#titles = ['SW (Vanilla OT)', 'SWGG (Vanilla OT)', 'SW (Partial OT)', 'SWGG (Partial OT)', 'SWGG (P. OT - elbow)']\n",
    "\n",
    "pl.figure(1, figsize=(2, 2))\n",
    "temp = Y[k].detach().cpu().numpy()\n",
    "if k == 1:\n",
    "    Y_transp = Y_swp.detach().cpu().numpy()\n",
    "elif k == 2:\n",
    "    Y_transp = Y_swggp.detach().cpu().numpy()\n",
    "elif k == 3:\n",
    "    Y_transp = Y_swggp_e.detach().cpu().numpy()\n",
    "\n",
    "pl.scatter(source[:n_samples_mode2,0], source[:n_samples_mode2,1],  c='peachpuff', s=20, marker = 'X')\n",
    "pl.scatter(source[n_samples_mode2: n_samples_mode2+n_samples_mode1,0], source[n_samples_mode2:n_samples_mode2+n_samples_mode1,1],  c='darkorange', s=20, marker = 'X')\n",
    "pl.scatter(X[:n_samples_mode1,0], X[:n_samples_mode1,1], facecolors='none', edgecolors='C0', s=20)\n",
    "pl.scatter(X[n_samples_mode1: n_samples_mode2+n_samples_mode1,0], X[n_samples_mode1:n_samples_mode2+n_samples_mode1,1], facecolors='none', edgecolors='powderblue', s=20)\n",
    "\n",
    "#pl.scatter(source[:,0], source[:,1], marker = 'X', facecolors='none', c='tab:orange')\n",
    "pl.title(\"Source and Target\", fontsize=10)\n",
    "pl.xticks([]) \n",
    "pl.yticks([]) \n",
    "pl.xlim([-12,5])\n",
    "pl.ylim([-3.5,4])\n",
    "#pl.savefig(results_folder + '/bimodalOriginal.pdf')\n",
    "pl.show()\n",
    "\n",
    "for k in range((len(titles))):\n",
    "    pl.figure(1, figsize=(2, 2))\n",
    "    temp = Y[k].detach().cpu().numpy()\n",
    "\n",
    "    if k == 1:\n",
    "        Y_transp = Y_swp.detach().cpu().numpy()\n",
    "    elif k == 2:\n",
    "        Y_transp = Y_swggp_e.detach().cpu().numpy()\n",
    "    elif k == 3:\n",
    "        Y_transp = Y_swggp_e.detach().cpu().numpy()\n",
    "\n",
    "\n",
    "    pl.scatter(X[:n_samples_mode1,0], X[:n_samples_mode1,1], facecolors='none', edgecolors='C0', s=20)\n",
    "    pl.scatter(X[n_samples_mode1: n_samples_mode2+n_samples_mode1,0], X[n_samples_mode1:n_samples_mode2+n_samples_mode1,1], facecolors='none', edgecolors='powderblue', s=20)\n",
    "    if k == 2:\n",
    "        pl.scatter(Y_transp[:n_samples_mode2,0], Y_transp[:n_samples_mode2,1],  c='peachpuff', s=40, marker = 'X')\n",
    "        pl.scatter(Y_transp[n_samples_mode2: n_samples_mode2+n_samples_mode1,0], Y_transp[n_samples_mode2:n_samples_mode2+n_samples_mode1,1], color='darkorange', s=40, marker = 'X')\n",
    "        pl.scatter(temp[:n_samples_mode2,0], temp[:n_samples_mode2,1],  c='black', s=2, marker = 'X')\n",
    "        pl.scatter(temp[n_samples_mode2: n_samples_mode2+n_samples_mode1,0], temp[n_samples_mode2:n_samples_mode2+n_samples_mode1,1], color='black', s=2, marker = 'X')\n",
    "    elif k >2:\n",
    "        pl.scatter(temp[:n_samples_mode2,0], temp[:n_samples_mode2,1],  c='black', s=2, marker = 'X')\n",
    "        pl.scatter(temp[n_samples_mode2: n_samples_mode2+n_samples_mode1,0], temp[n_samples_mode2:n_samples_mode2+n_samples_mode1,1], color='black', s=2, marker = 'X')\n",
    "        pl.scatter(Y_transp[:n_samples_mode2,0], Y_transp[:n_samples_mode2,1],  c='peachpuff', s=40, marker = 'X')\n",
    "        pl.scatter(Y_transp[n_samples_mode2: n_samples_mode2+n_samples_mode1,0], Y_transp[n_samples_mode2:n_samples_mode2+n_samples_mode1,1], color='darkorange', s=40, marker = 'X')\n",
    "    else:\n",
    "        pl.scatter(temp[:n_samples_mode2,0], temp[:n_samples_mode2,1],  c='peachpuff', s=20, marker = 'X')\n",
    "        pl.scatter(temp[n_samples_mode2: n_samples_mode2+n_samples_mode1,0], temp[n_samples_mode2:n_samples_mode2+n_samples_mode1,1],  c='darkorange', s=20, marker = 'X')\n",
    "    \n",
    "\n",
    "    pl.title(titles[k], fontsize=10)\n",
    "    pl.xticks([]) \n",
    "    pl.yticks([]) \n",
    "    pl.xlim([-12,5])\n",
    "    pl.ylim([-3.5,4])\n",
    "    #pl.savefig(results_folder + '/bimodal%03d.pdf'%(k))\n",
    "    pl.show()"
   ]
  }
 ],
 "metadata": {
  "kernelspec": {
   "display_name": "Python 3",
   "language": "python",
   "name": "python3"
  },
  "language_info": {
   "codemirror_mode": {
    "name": "ipython",
    "version": 3
   },
   "file_extension": ".py",
   "mimetype": "text/x-python",
   "name": "python",
   "nbconvert_exporter": "python",
   "pygments_lexer": "ipython3",
   "version": "3.10.5"
  }
 },
 "nbformat": 4,
 "nbformat_minor": 2
}
